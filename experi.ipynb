{
 "cells": [
  {
   "cell_type": "code",
   "execution_count": 11,
   "metadata": {},
   "outputs": [],
   "source": [
    "from langchain_community.document_loaders import PyPDFLoader\n",
    "from langchain_text_splitters import RecursiveCharacterTextSplitter\n",
    "from langchain.vectorstores import Chroma\n",
    "from langchain_community.embeddings import HuggingFaceEmbeddings\n"
   ]
  },
  {
   "cell_type": "code",
   "execution_count": 12,
   "metadata": {},
   "outputs": [],
   "source": [
    "loader = PyPDFLoader(\"Data/PG-Manual.pdf\")\n",
    "pages = loader.load_and_split()"
   ]
  },
  {
   "cell_type": "code",
   "execution_count": 13,
   "metadata": {},
   "outputs": [
    {
     "data": {
      "text/plain": [
       "Document(page_content='(1) POSTGRADUATE PROGRAMMES \\nProcedures and Requirements \\n  \\n \\n \\n \\n \\n \\n \\n \\nIndian Institute of Technology Kanpur \\nApproved in Senate (2015-16/1st) meeting on September 02, 2015 & \\n  afterward updates various Senate meetings approval (upto 06 February 2024) \\n \\n \\n \\nWeb site:   http://www.iitk.ac.in/spgc', metadata={'source': 'Data/PG-Manual.pdf', 'page': 0})"
      ]
     },
     "execution_count": 13,
     "metadata": {},
     "output_type": "execute_result"
    }
   ],
   "source": [
    "pages[0]"
   ]
  },
  {
   "cell_type": "code",
   "execution_count": 14,
   "metadata": {},
   "outputs": [],
   "source": [
    "cleaned_pages = []\n",
    "\n",
    "for page in pages:\n",
    "    # Remove newline characters\n",
    "    page_text = page.page_content\n",
    "    page_text = page_text.replace(\"\\n\", \"\")\n",
    "    # Remove tab characters\n",
    "    page_text = page_text.replace(\"\\t\", \"\")\n",
    "    # Add more cleaning operations if necessary\n",
    "    \n",
    "    # Append cleaned page to the list\n",
    "    cleaned_pages.append(page_text)"
   ]
  },
  {
   "cell_type": "code",
   "execution_count": 15,
   "metadata": {},
   "outputs": [
    {
     "data": {
      "text/plain": [
       "'(35) 5.  If the M.Tech / M. Des thesis option is exercised, the problem which forms the major content of the M Tech./ M.Des thesis should be different from the one reported in the PhD thesis. To ensure this, there should be plagiarism check performed between the MTech / M.Des and the PhD thesis. Also, it is recommended that at least one member of the thesis oral boards should be common across the two boards. 6.    Student can deliver open seminar after M. Tech / M.Des defense without waiting for six months. 7.    For MBA programme kindly refer to Annexure-V.   11.7.1 Award of MSR degree with PhD degree to those students who are admitted to PhD program in Engineering directly after a B.Tech./BS(4Yr)/M.Sc. degree or have converted from MSR degree to PhD degree:   All students who are pursuing the PhD degree directly after B.Tech./BS(4Yr)/M.Sc. degree can opt to get the additional MSR degree awarded along with the PhD degree at the time of graduation. This is subject to the following conditions: 1. The minimum total credit requirement will be 216 (the same as for PhD after B. Tech/BS/M. Sc). 2. The minimum number of thesis credits will be the sum of minimum number of thesis credits of MSR (72) and PhD (72), equalling 144. 3. The minimum number of course credits should be the maximum of C1 and C2, where C1 is the course credits required for MSR and C2 is the course credits required for PhD after B.Tech/BS/M.Sc. This number varies between 36 and 90 depending on the department. 4. Only MSR thesis option will be available to the student and the problem which forms the major content of the MSR thesis should be different from the one reported in the PhD thesis. To ensure this, there should be plagiarism check performed between the MSR and the PhD thesis. Also, it is recommended that at least one member of the thesis oral boards should be common across the two boards. 5. Student can deliver open seminar after MSR defense without waiting for six months.   12. GRADUATION REQUIREMENTS  A student shall be deemed to have completed the graduation requirements., if the student has  i) passed all the prescribed courses,  ii)  attained the minimum required CPI,  iii)  satisfied the minimum academic and duration requirements,.  iv)  satisfied all the requirements specified by the concerned department, if any,  v)  satisfied all the requirements specified by the Senate and the Ordinances..  In addition, the student should have paid all the dues to the Institute and, should have no pending case of indiscipline.'"
      ]
     },
     "execution_count": 15,
     "metadata": {},
     "output_type": "execute_result"
    }
   ],
   "source": [
    "cleaned_pages[35]"
   ]
  },
  {
   "cell_type": "code",
   "execution_count": 16,
   "metadata": {},
   "outputs": [],
   "source": [
    "import chromadb\n",
    "chroma_client = chromadb.Client()"
   ]
  },
  {
   "cell_type": "code",
   "execution_count": 17,
   "metadata": {},
   "outputs": [],
   "source": [
    "collection = chroma_client.create_collection(name=\"my_collection\")"
   ]
  },
  {
   "cell_type": "code",
   "execution_count": 18,
   "metadata": {},
   "outputs": [],
   "source": [
    "collection.add(\n",
    "    documents=cleaned_pages,ids=[str(i) for i in range(len(cleaned_pages))])"
   ]
  },
  {
   "cell_type": "code",
   "execution_count": 20,
   "metadata": {},
   "outputs": [
    {
     "data": {
      "text/plain": [
       "{'ids': [['20', '6']],\n",
       " 'distances': [[0.7523107528686523, 0.8059523105621338]],\n",
       " 'metadatas': [[None, None]],\n",
       " 'embeddings': None,\n",
       " 'documents': [['(21) S. No. Programme Minimum Total Credits Credits Through Course Work (Minimum)  Credits Through Research (Minimum) Minimum Duration3&4 Maximum Duration5 1 D.IIT. 72 36 18 2 Sem 3 Sem 2 M.Tech./M.Des. 144 541 63 4 Sem 4 Years 3 M.S. by Research students with B.Tech., B.S. (4-year program) or M.Sc.  144 36 72 4 Sem 4 Years 4 M.S. by Research students with B.Sc. 216 72 72 6 Sem 5 Years 5 M.B.A. 216 216 - 4 Sem 3 Years 6 Ph.D. (Design/Management/ Engineering except AE/BSBE/CSE/EE/ME/MSE/MSP) students with B.Des., B.Tech, B. Arch., B.S. (4-year program), M.Sc., M.A., M.Com. or Chartered Accountancy  216 722 72 6 Sem 7 Years 7 Ph.D. (AE/EE/ME/MSE/MSP) students with B.S. (4-year program), B.Tech. or M.Sc.  216 902 72 6 Sem 7 Years 8 Ph.D. (CSE/BSBE) students with B.S. (4-year program), B.Tech., M.Sc., M.C.A., B.Pharm., B.V.Sc. or M.B.B.S.  216 362 72 6 Sem 7 Years 9 Ph.D. (Management/Design/ Engineering except ME) students with M.Tech., M.Pharm., M.D., M.V.Sc., M.Des. or M.B.A. (with M.Sc., M.A., B.Tech., B.S. (4-year program))  144 362  72 4 Sem 6 Years 10 Ph.D. (ME) students with M.Tech.  144 542 72 4 Sem 6 Years 11 Ph.D. (Management) students with M.B.A. (with B.A., B.Sc.)  180 542 72 5 Sem 6 Years 12 Ph.D. (HSS/Sciences except Physics and Chemistry) students with M.Sc., M.A., M.Phil., Fine-Arts or Chartered Accountancy  180 542 72 5 Sem 6 Years 13 Ph.D. (Chemistry/Physics) students with M.Sc. 180 362 72 5 Sem 6 Years 14 Ph.D. (Sciences/HSS) students with B.Tech., B.S. (4-year program) 216 722 72 6 Sem 7 Years   1. May include one undergraduate course (permitted by the DPGC).   2. This is the minimum requirement specified by the departments. However, DPGC of each department can ask any student to do additional course(s) based on his/her background. For the course(s) suggested by DPGC, student will be awarded letter grades. For any other additional course(s) taken by the student, he/she may make a request for grades to be awarded in the S/X mode. These additional courses may also',\n",
       "   \"(7)  2.3.4. M.Des. The applicant must have a bachelor's degree in engineering or a 4-year bachelor's degree in science, Design or Architecture with marks/CPI not below the specified minimum. Candidates holding degrees in Fine Arts or Interior Design are not eligible to apply.  2.3.5. M.B.A. The applicant must have a Bachelor's degree in any discipline with minimum 60 percent marks/6.0 CPl. Candidates with Mathematics as a subject at 10+2 or equivalent level.  2.3.6. Ph.D. in Engineering and IDPs with M.Tech. program The applicant must have a master's degree in engineering with marks/CPI not below the specified minimum (please refer to 2.3.b) .  Those applicants may also be considered who have a bachelor's degree in engineering or a 4-year bachelor's degree in science with  a) a minimum of 75 percent marks/7.5 CPI b) JRF/95 percentile or higher in GATE for students from non-CFTIs . or a master’s degree in science or an allied area while satisfying each of the following criteria: (a) a minimum of 65 percent marks/6.5 CPI in the master’s degree, (b) first division in bachelor’s degree, and (c) JRF/95 percentile or higher in GATE.  For admission into Ph.D. in Biological Sciences and Bio-engineering, applicants having master’s degree in pharmacy/medicine/veterinary science with marks/CPI not below the specified minimum, or bachelor’s degree in pharmacy/medicine/veterinary science with a minimum of 75 percent marks/7.5 CPI, may also be considered. For admission into Ph.D. in Computer Science and Engineering, applicants with master in computer applications while satisfying each of the above criteria in (a), (b) and (c) may also be considered. 2.3.7. Ph.D. in Sciences The applicant must have a master's degree in the relevant subject or a bachelor's degree in engineering or a 4-year bachelor's degree in science  with marks/CPI not below the specified minimum.  (please refer to 2.3.b).   2.3.8. Ph.D. in Humanities The applicant must have a master’s degree in relevant subject or master degree in engineering / technology with marks/CPI not below the specified minimum. (please refer to 2.3.b) . Those applicants may also be considered who have a bachelor's degree in engineering or a 4-year bachelor's degree in science with a minimum of 75 percent marks/7.5 CPI or\"]],\n",
       " 'uris': None,\n",
       " 'data': None}"
      ]
     },
     "execution_count": 20,
     "metadata": {},
     "output_type": "execute_result"
    }
   ],
   "source": [
    "results = collection.query(\n",
    "    query_texts=\"what are the minimum number of credits required by MTech student from department of mechanical engineering(ME) to get his degree\",\n",
    "    n_results=2\n",
    ")\n",
    "results"
   ]
  },
  {
   "cell_type": "code",
   "execution_count": 4,
   "metadata": {},
   "outputs": [],
   "source": [
    "from langchain.llms import CTransformers\n",
    "from langchain import PromptTemplate\n",
    "from langchain.chains import LLMChain"
   ]
  },
  {
   "cell_type": "code",
   "execution_count": 5,
   "metadata": {},
   "outputs": [],
   "source": [
    "prompt_template=\"\"\"\n",
    "Based on the given releated information of question try to answer the question given below.If you don't know the answer\n",
    "return I dont know, don't to generate your own answer\n",
    "information :{context}\n",
    "question:{question}\n",
    "return the helpful answer that set , dont return anything else\n",
    "Helpful answer :\"\"\""
   ]
  },
  {
   "cell_type": "code",
   "execution_count": 6,
   "metadata": {},
   "outputs": [],
   "source": [
    "PROMPT=PromptTemplate(template=prompt_template, input_variables=[\"context\", \"question\"])\n",
    "chain_type_kwargs={\"prompt\": PROMPT}"
   ]
  },
  {
   "cell_type": "code",
   "execution_count": 7,
   "metadata": {},
   "outputs": [
    {
     "data": {
      "application/vnd.jupyter.widget-view+json": {
       "model_id": "dcb33506b4d042a8a7aafe98b41c3dad",
       "version_major": 2,
       "version_minor": 0
      },
      "text/plain": [
       "Fetching 1 files:   0%|          | 0/1 [00:00<?, ?it/s]"
      ]
     },
     "metadata": {},
     "output_type": "display_data"
    },
    {
     "data": {
      "application/vnd.jupyter.widget-view+json": {
       "model_id": "e8ff5f666a5e4f89b83e746bc813215d",
       "version_major": 2,
       "version_minor": 0
      },
      "text/plain": [
       "Fetching 1 files:   0%|          | 0/1 [00:00<?, ?it/s]"
      ]
     },
     "metadata": {},
     "output_type": "display_data"
    }
   ],
   "source": [
    "llm = CTransformers(model=\"TheBloke/Llama-2-7B-Chat-GGML\", model_type=\"llama\",config={\"temperature\":0.7,'context_length' : 2048},device=\"cuda\")"
   ]
  },
  {
   "cell_type": "code",
   "execution_count": 8,
   "metadata": {},
   "outputs": [],
   "source": [
    "output =LLMChain(llm=llm,prompt=PROMPT,output_key=\"OUTPUT\",verbose=True)"
   ]
  },
  {
   "cell_type": "code",
   "execution_count": 21,
   "metadata": {},
   "outputs": [],
   "source": [
    "question=\"what are the minimum CPI required by MTech student from department of mechanical engineering(ME) to get his degree\""
   ]
  },
  {
   "cell_type": "code",
   "execution_count": 22,
   "metadata": {},
   "outputs": [
    {
     "data": {
      "text/plain": [
       "{'ids': [['6', '23']],\n",
       " 'distances': [[0.7449835538864136, 0.8692521452903748]],\n",
       " 'metadatas': [[None, None]],\n",
       " 'embeddings': None,\n",
       " 'documents': [[\"(7)  2.3.4. M.Des. The applicant must have a bachelor's degree in engineering or a 4-year bachelor's degree in science, Design or Architecture with marks/CPI not below the specified minimum. Candidates holding degrees in Fine Arts or Interior Design are not eligible to apply.  2.3.5. M.B.A. The applicant must have a Bachelor's degree in any discipline with minimum 60 percent marks/6.0 CPl. Candidates with Mathematics as a subject at 10+2 or equivalent level.  2.3.6. Ph.D. in Engineering and IDPs with M.Tech. program The applicant must have a master's degree in engineering with marks/CPI not below the specified minimum (please refer to 2.3.b) .  Those applicants may also be considered who have a bachelor's degree in engineering or a 4-year bachelor's degree in science with  a) a minimum of 75 percent marks/7.5 CPI b) JRF/95 percentile or higher in GATE for students from non-CFTIs . or a master’s degree in science or an allied area while satisfying each of the following criteria: (a) a minimum of 65 percent marks/6.5 CPI in the master’s degree, (b) first division in bachelor’s degree, and (c) JRF/95 percentile or higher in GATE.  For admission into Ph.D. in Biological Sciences and Bio-engineering, applicants having master’s degree in pharmacy/medicine/veterinary science with marks/CPI not below the specified minimum, or bachelor’s degree in pharmacy/medicine/veterinary science with a minimum of 75 percent marks/7.5 CPI, may also be considered. For admission into Ph.D. in Computer Science and Engineering, applicants with master in computer applications while satisfying each of the above criteria in (a), (b) and (c) may also be considered. 2.3.7. Ph.D. in Sciences The applicant must have a master's degree in the relevant subject or a bachelor's degree in engineering or a 4-year bachelor's degree in science  with marks/CPI not below the specified minimum.  (please refer to 2.3.b).   2.3.8. Ph.D. in Humanities The applicant must have a master’s degree in relevant subject or master degree in engineering / technology with marks/CPI not below the specified minimum. (please refer to 2.3.b) . Those applicants may also be considered who have a bachelor's degree in engineering or a 4-year bachelor's degree in science with a minimum of 75 percent marks/7.5 CPI or\",\n",
       "   '(24) 7.6.8. Computation of the Semester Performance Index (SPI) and Cumulative Performance Index (CPI)  The SPI is an indicator of the overall academic performance of a student in all the courses he/she has registered during a given semester. It is computed as follows: If the grades awarded to a student are G 1, G2 etc in courses with corresponding credits C 1, C2 etc, the SPI is given by   SPI = (C 1G1 + C2 G2 + …) / (C 1 + C2 + …)   In the above computation, courses with S and X grades are ignored. Similarly, the CPI indicates the cumulative academic performance in all the courses taken including those taken in the current semester.  7.7. Academic Performance Requirement ( Refer to Addendum  for existing clause for Y23 and later batch students ) 7.7.1. The minimum CPI requirement for continuing in the programme or for graduation is given below.  D.IIT./M.Tech./M.Des./M.S. by Research/MBA programme :  6.5. Ph.D. programme :       7.0.  7.7.2. In the first semester in which the student registers, the minimum CPI (SPI) may be relaxed to 6.0  and the student may be allowed to continue in the following semester on the recommendations of the DPGC and with the approval of the SPGC. A letter of warning will be issued by the Head of the Department/IDP of the student.  7.7.3. In subsequent semesters, if a D.IIT. /M.Tech./M.Des./M.S. by Research/MBA student secures a CPI between 6.0 and 6.5 or a Ph.D. student secures a CPI between 6.5 and 7.0, he/she may be allowed to continue in the following semester on the recommendation of the DPGC and with the approval of the SPGC. A letter of warning will be issued by the Head of the Department/IDP of the student. 7.7.4. A student will normally not be allowed to continue in the D.IIT./M.Tech./ M.Des./M.S. by Research /MBA programme if  i) his/her CPI is below 6.0  ii) his/her CPI is below 6.5 in two consecutive semesters (however, SPGC may consider continuation as per provisions of 7.7.3). iii) he/she obtains two Fs or two Es or one F and one E in the same or different courses. iv) he/she accumulates three or more Xs towards thesis grades.   7.7.5. A student will normally not be allowed to continue in the Ph.D. programme if  i) his/her CPI is below 6.5  ii) his/her CPI is below 7.0 in two consecutive semesters (however, SPGC may consider continuation as per provisions of 7.7.3).  iii) he/she obtains two Fs or two Es or one F and one E in the same or different courses.  iv) he/she accumulates eight or more Xs towards thesis grades. v) he/she accumulates six or more Xs towards thesis grades in two consecutive semesters. vi) he/she secures Xs in all the thesis credits registered for in two consecutive semesters.  7.7.6. A letter of warning will be issued to a Ph.D. student by the Head of the Department/IDP of the student when he/she accumulates two or more Xs.']],\n",
       " 'uris': None,\n",
       " 'data': None}"
      ]
     },
     "execution_count": 22,
     "metadata": {},
     "output_type": "execute_result"
    }
   ],
   "source": [
    "results = collection.query(\n",
    "    query_texts=question,\n",
    "    n_results=2\n",
    ")\n",
    "results"
   ]
  },
  {
   "cell_type": "code",
   "execution_count": 23,
   "metadata": {},
   "outputs": [
    {
     "name": "stdout",
     "output_type": "stream",
     "text": [
      "\n",
      "\n",
      "\u001b[1m> Entering new LLMChain chain...\u001b[0m\n",
      "Prompt after formatting:\n",
      "\u001b[32;1m\u001b[1;3m\n",
      "Based on the given releated information of question try to answer the question given below.If you don't know the answer\n",
      "return I dont know, don't to generate your own answer\n",
      "information :[[\"(7)  2.3.4. M.Des. The applicant must have a bachelor's degree in engineering or a 4-year bachelor's degree in science, Design or Architecture with marks/CPI not below the specified minimum. Candidates holding degrees in Fine Arts or Interior Design are not eligible to apply.  2.3.5. M.B.A. The applicant must have a Bachelor's degree in any discipline with minimum 60 percent marks/6.0 CPl. Candidates with Mathematics as a subject at 10+2 or equivalent level.  2.3.6. Ph.D. in Engineering and IDPs with M.Tech. program The applicant must have a master's degree in engineering with marks/CPI not below the specified minimum (please refer to 2.3.b) .  Those applicants may also be considered who have a bachelor's degree in engineering or a 4-year bachelor's degree in science with  a) a minimum of 75 percent marks/7.5 CPI b) JRF/95 percentile or higher in GATE for students from non-CFTIs . or a master’s degree in science or an allied area while satisfying each of the following criteria: (a) a minimum of 65 percent marks/6.5 CPI in the master’s degree, (b) first division in bachelor’s degree, and (c) JRF/95 percentile or higher in GATE.  For admission into Ph.D. in Biological Sciences and Bio-engineering, applicants having master’s degree in pharmacy/medicine/veterinary science with marks/CPI not below the specified minimum, or bachelor’s degree in pharmacy/medicine/veterinary science with a minimum of 75 percent marks/7.5 CPI, may also be considered. For admission into Ph.D. in Computer Science and Engineering, applicants with master in computer applications while satisfying each of the above criteria in (a), (b) and (c) may also be considered. 2.3.7. Ph.D. in Sciences The applicant must have a master's degree in the relevant subject or a bachelor's degree in engineering or a 4-year bachelor's degree in science  with marks/CPI not below the specified minimum.  (please refer to 2.3.b).   2.3.8. Ph.D. in Humanities The applicant must have a master’s degree in relevant subject or master degree in engineering / technology with marks/CPI not below the specified minimum. (please refer to 2.3.b) . Those applicants may also be considered who have a bachelor's degree in engineering or a 4-year bachelor's degree in science with a minimum of 75 percent marks/7.5 CPI or\", '(24) 7.6.8. Computation of the Semester Performance Index (SPI) and Cumulative Performance Index (CPI)  The SPI is an indicator of the overall academic performance of a student in all the courses he/she has registered during a given semester. It is computed as follows: If the grades awarded to a student are G 1, G2 etc in courses with corresponding credits C 1, C2 etc, the SPI is given by   SPI = (C 1G1 + C2 G2 + …) / (C 1 + C2 + …)   In the above computation, courses with S and X grades are ignored. Similarly, the CPI indicates the cumulative academic performance in all the courses taken including those taken in the current semester.  7.7. Academic Performance Requirement ( Refer to Addendum  for existing clause for Y23 and later batch students ) 7.7.1. The minimum CPI requirement for continuing in the programme or for graduation is given below.  D.IIT./M.Tech./M.Des./M.S. by Research/MBA programme :  6.5. Ph.D. programme :       7.0.  7.7.2. In the first semester in which the student registers, the minimum CPI (SPI) may be relaxed to 6.0  and the student may be allowed to continue in the following semester on the recommendations of the DPGC and with the approval of the SPGC. A letter of warning will be issued by the Head of the Department/IDP of the student.  7.7.3. In subsequent semesters, if a D.IIT. /M.Tech./M.Des./M.S. by Research/MBA student secures a CPI between 6.0 and 6.5 or a Ph.D. student secures a CPI between 6.5 and 7.0, he/she may be allowed to continue in the following semester on the recommendation of the DPGC and with the approval of the SPGC. A letter of warning will be issued by the Head of the Department/IDP of the student. 7.7.4. A student will normally not be allowed to continue in the D.IIT./M.Tech./ M.Des./M.S. by Research /MBA programme if  i) his/her CPI is below 6.0  ii) his/her CPI is below 6.5 in two consecutive semesters (however, SPGC may consider continuation as per provisions of 7.7.3). iii) he/she obtains two Fs or two Es or one F and one E in the same or different courses. iv) he/she accumulates three or more Xs towards thesis grades.   7.7.5. A student will normally not be allowed to continue in the Ph.D. programme if  i) his/her CPI is below 6.5  ii) his/her CPI is below 7.0 in two consecutive semesters (however, SPGC may consider continuation as per provisions of 7.7.3).  iii) he/she obtains two Fs or two Es or one F and one E in the same or different courses.  iv) he/she accumulates eight or more Xs towards thesis grades. v) he/she accumulates six or more Xs towards thesis grades in two consecutive semesters. vi) he/she secures Xs in all the thesis credits registered for in two consecutive semesters.  7.7.6. A letter of warning will be issued to a Ph.D. student by the Head of the Department/IDP of the student when he/she accumulates two or more Xs.']]\n",
      "question:what are the minimum CPI required by MTech student from department of mechanical engineering(ME) to get his degree\n",
      "return the helpful answer that set , dont return anything else\n",
      "Helpful answer :\u001b[0m\n",
      "\n",
      "\u001b[1m> Finished chain.\u001b[0m\n"
     ]
    },
    {
     "data": {
      "text/plain": [
       "{'context': [[\"(7)  2.3.4. M.Des. The applicant must have a bachelor's degree in engineering or a 4-year bachelor's degree in science, Design or Architecture with marks/CPI not below the specified minimum. Candidates holding degrees in Fine Arts or Interior Design are not eligible to apply.  2.3.5. M.B.A. The applicant must have a Bachelor's degree in any discipline with minimum 60 percent marks/6.0 CPl. Candidates with Mathematics as a subject at 10+2 or equivalent level.  2.3.6. Ph.D. in Engineering and IDPs with M.Tech. program The applicant must have a master's degree in engineering with marks/CPI not below the specified minimum (please refer to 2.3.b) .  Those applicants may also be considered who have a bachelor's degree in engineering or a 4-year bachelor's degree in science with  a) a minimum of 75 percent marks/7.5 CPI b) JRF/95 percentile or higher in GATE for students from non-CFTIs . or a master’s degree in science or an allied area while satisfying each of the following criteria: (a) a minimum of 65 percent marks/6.5 CPI in the master’s degree, (b) first division in bachelor’s degree, and (c) JRF/95 percentile or higher in GATE.  For admission into Ph.D. in Biological Sciences and Bio-engineering, applicants having master’s degree in pharmacy/medicine/veterinary science with marks/CPI not below the specified minimum, or bachelor’s degree in pharmacy/medicine/veterinary science with a minimum of 75 percent marks/7.5 CPI, may also be considered. For admission into Ph.D. in Computer Science and Engineering, applicants with master in computer applications while satisfying each of the above criteria in (a), (b) and (c) may also be considered. 2.3.7. Ph.D. in Sciences The applicant must have a master's degree in the relevant subject or a bachelor's degree in engineering or a 4-year bachelor's degree in science  with marks/CPI not below the specified minimum.  (please refer to 2.3.b).   2.3.8. Ph.D. in Humanities The applicant must have a master’s degree in relevant subject or master degree in engineering / technology with marks/CPI not below the specified minimum. (please refer to 2.3.b) . Those applicants may also be considered who have a bachelor's degree in engineering or a 4-year bachelor's degree in science with a minimum of 75 percent marks/7.5 CPI or\",\n",
       "   '(24) 7.6.8. Computation of the Semester Performance Index (SPI) and Cumulative Performance Index (CPI)  The SPI is an indicator of the overall academic performance of a student in all the courses he/she has registered during a given semester. It is computed as follows: If the grades awarded to a student are G 1, G2 etc in courses with corresponding credits C 1, C2 etc, the SPI is given by   SPI = (C 1G1 + C2 G2 + …) / (C 1 + C2 + …)   In the above computation, courses with S and X grades are ignored. Similarly, the CPI indicates the cumulative academic performance in all the courses taken including those taken in the current semester.  7.7. Academic Performance Requirement ( Refer to Addendum  for existing clause for Y23 and later batch students ) 7.7.1. The minimum CPI requirement for continuing in the programme or for graduation is given below.  D.IIT./M.Tech./M.Des./M.S. by Research/MBA programme :  6.5. Ph.D. programme :       7.0.  7.7.2. In the first semester in which the student registers, the minimum CPI (SPI) may be relaxed to 6.0  and the student may be allowed to continue in the following semester on the recommendations of the DPGC and with the approval of the SPGC. A letter of warning will be issued by the Head of the Department/IDP of the student.  7.7.3. In subsequent semesters, if a D.IIT. /M.Tech./M.Des./M.S. by Research/MBA student secures a CPI between 6.0 and 6.5 or a Ph.D. student secures a CPI between 6.5 and 7.0, he/she may be allowed to continue in the following semester on the recommendation of the DPGC and with the approval of the SPGC. A letter of warning will be issued by the Head of the Department/IDP of the student. 7.7.4. A student will normally not be allowed to continue in the D.IIT./M.Tech./ M.Des./M.S. by Research /MBA programme if  i) his/her CPI is below 6.0  ii) his/her CPI is below 6.5 in two consecutive semesters (however, SPGC may consider continuation as per provisions of 7.7.3). iii) he/she obtains two Fs or two Es or one F and one E in the same or different courses. iv) he/she accumulates three or more Xs towards thesis grades.   7.7.5. A student will normally not be allowed to continue in the Ph.D. programme if  i) his/her CPI is below 6.5  ii) his/her CPI is below 7.0 in two consecutive semesters (however, SPGC may consider continuation as per provisions of 7.7.3).  iii) he/she obtains two Fs or two Es or one F and one E in the same or different courses.  iv) he/she accumulates eight or more Xs towards thesis grades. v) he/she accumulates six or more Xs towards thesis grades in two consecutive semesters. vi) he/she secures Xs in all the thesis credits registered for in two consecutive semesters.  7.7.6. A letter of warning will be issued to a Ph.D. student by the Head of the Department/IDP of the student when he/she accumulates two or more Xs.']],\n",
       " 'question': 'what are the minimum CPI required by MTech student from department of mechanical engineering(ME) to get his degree',\n",
       " 'OUTPUT': ' The minimum CPI required by MTech students from the Department of Mechanical Engineering (ME) to get their degree is 6.5.'}"
      ]
     },
     "execution_count": 23,
     "metadata": {},
     "output_type": "execute_result"
    }
   ],
   "source": [
    "output({\"context\":results[\"documents\"],\"question\":question})"
   ]
  },
  {
   "cell_type": "code",
   "execution_count": null,
   "metadata": {},
   "outputs": [],
   "source": []
  }
 ],
 "metadata": {
  "kernelspec": {
   "display_name": "base",
   "language": "python",
   "name": "python3"
  },
  "language_info": {
   "codemirror_mode": {
    "name": "ipython",
    "version": 3
   },
   "file_extension": ".py",
   "mimetype": "text/x-python",
   "name": "python",
   "nbconvert_exporter": "python",
   "pygments_lexer": "ipython3",
   "version": "3.8.18"
  }
 },
 "nbformat": 4,
 "nbformat_minor": 2
}
